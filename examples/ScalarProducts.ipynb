{
 "cells": [
  {
   "cell_type": "markdown",
   "metadata": {},
   "source": [
    "# Computation of Scalar Products\n",
    "\n",
    "By now, we are able to construct orthogonal polynomials, and to construct quadrature rules for a given nonnegative weight function, respectively.\n",
    "Now we combine both ideas to solve integrals involving the orthogonal polynomials\n",
    "$$\n",
    "\\langle \\phi_{i_1} \\phi_{i_2} \\cdots \\phi_{i_{m-1}}, \\phi_{i_m} \\rangle\n",
    "= \\int \\phi_{i_1}(t) \\phi_{i_2}(t) \\cdots \\phi_{i_{m-1}}(t) \\phi_{i_m}(t) w(t) \\mathrm{d} t,\n",
    "$$\n",
    "both for the univariate and multivariate case.\n",
    "The integrand is a polynomial (possibly multivariate) that can be solved exactly with the appropriate Gauss quadrature rules.\n",
    "\n",
    "Notice: To simplify notation we drop the integration interval.\n",
    "It is clear from the context.\n",
    "\n",
    "\n",
    "## Univariate Polynomials\n",
    "### Classical Polynomials\n",
    "Let's begin with a univariate basis for some *classical* orthogonal polynomial"
   ]
  },
  {
   "cell_type": "code",
   "execution_count": 1,
   "metadata": {},
   "outputs": [
    {
     "name": "stdout",
     "output_type": "stream",
     "text": [
      "\n",
      "\u001b[4mUnivariate orthogonal polynomials\u001b[24m\n",
      "name:\u001b[94m\t\tbeta01\u001b[39m\n",
      "degree:\u001b[0m\t\t4\n",
      "#coeffs:\u001b[0m\t20\n",
      "α =\u001b[0m\t\t[0.396226, 0.453089, 0.473266, 0.482729, 0.487923, 0.491081, 0.493143]...\n",
      "β =\u001b[0m\t\t[1.0, 0.0379732, 0.0495282, 0.0544964, 0.0570749, 0.0585822, 0.0595388]...\n",
      "\n",
      "\u001b[4mMeasure dλ(t)=w(t)dt\u001b[24m\n",
      "name:\t\t\u001b[94mbeta01\u001b[39m\n",
      "w(t):\t\tgetfield(PolyChaos, Symbol(\"##86#87\")){Float64,Float64}(2.1, 3.2)\n",
      "dom:\t\t(0.0, 1.0)\n",
      "symmetric:\t\u001b[31mfalse\u001b[39m\n",
      "pars:"
     ]
    },
    {
     "data": {
      "text/plain": []
     },
     "execution_count": 1,
     "metadata": {},
     "output_type": "execute_result"
    },
    {
     "name": "stdout",
     "output_type": "stream",
     "text": [
      "\u001b[0m\t\t:shape_b => 3.2\n",
      "\u001b[0m\t\t:shape_a => 2.1\n"
     ]
    }
   ],
   "source": [
    "using PolyChaos\n",
    "deg, n = 4, 20\n",
    "s_α, s_β = 2.1, 3.2\n",
    "op = OrthoPoly(\"beta01\",deg,Dict(:shape_a=>s_α,:shape_b=>s_β);Nrec=n)"
   ]
  },
  {
   "cell_type": "markdown",
   "metadata": {},
   "source": [
    "To add the corresponding quadrature rule there is the composite struct `OrthoPolyQ` whose simplest constructor reads"
   ]
  },
  {
   "cell_type": "code",
   "execution_count": 2,
   "metadata": {},
   "outputs": [
    {
     "data": {
      "text/plain": []
     },
     "execution_count": 2,
     "metadata": {},
     "output_type": "execute_result"
    },
    {
     "name": "stdout",
     "output_type": "stream",
     "text": [
      "\n",
      "\u001b[4mUnivariate orthogonal polynomials\u001b[24m\n",
      "name:\u001b[94m\t\tbeta01\u001b[39m\n",
      "degree:\u001b[0m\t\t4\n",
      "#coeffs:\u001b[0m\t20\n",
      "α =\u001b[0m\t\t[0.396226, 0.453089, 0.473266, 0.482729, 0.487923, 0.491081, 0.493143]...\n",
      "β =\u001b[0m\t\t[1.0, 0.0379732, 0.0495282, 0.0544964, 0.0570749, 0.0585822, 0.0595388]...\n",
      "\n",
      "\u001b[4mMeasure dλ(t)=w(t)dt\u001b[24m\n",
      "name:\t\t\u001b[94mbeta01\u001b[39m\n",
      "w(t):\t\tgetfield(PolyChaos, Symbol(\"##86#87\")){Float64,Float64}(2.1, 3.2)\n",
      "dom:\t\t(0.0, 1.0)\n",
      "symmetric:\t\u001b[31mfalse\u001b[39m\n",
      "pars:\u001b[0m\t\t:shape_b => 3.2\n",
      "\u001b[0m\t\t:shape_a => 2.1\n",
      "\n",
      "\u001b[4mQuadrature rule\u001b[24m\n",
      "name:\u001b[94m\t\tgolubwelsch\u001b[39m\n",
      "N:\u001b[0m\t\t20\n",
      "nodes\u001b[0m\t\t[0.00801337, 0.0259548, 0.0534374, 0.0899073, 0.134632, 0.186713, 0.245104]...\n",
      "weights\u001b[0m\t\t[0.000950472, 0.00581637, 0.017016, 0.035118, 0.0584312, 0.083353, 0.10533]...\n"
     ]
    }
   ],
   "source": [
    "opq = OrthoPolyQ(op,n)"
   ]
  },
  {
   "cell_type": "markdown",
   "metadata": {},
   "source": [
    "By default, an $n$-point Gauss quadrature rule is create relative to the underlying measure `op.meas`, where $n$ is the number of recurrence coefficients stored in `op.α` and `op.β`.\n",
    "The type `OrthoPolyQ` has just two fields: an `OrthoPoly`, and a `Quad`.\n",
    "\n",
    "To compute the squared norms\n",
    "$$\n",
    "\\| \\phi_k \\|^2 = \\langle \\phi_k, \\phi_k  \\rangle\n",
    "= \\int \\phi_k(t) \\phi_k(t) w(t) \\mathrm{d} t\n",
    "$$\n",
    "\n",
    "of the basis we call `computeSP2()`"
   ]
  },
  {
   "cell_type": "code",
   "execution_count": 3,
   "metadata": {},
   "outputs": [
    {
     "data": {
      "text/plain": [
       "5-element Array{Float64,1}:\n",
       " 1.0                   \n",
       " 0.03797318144060756   \n",
       " 0.0018807430768498865 \n",
       " 0.00010249372143217376\n",
       " 5.849823409553846e-6  "
      ]
     },
     "execution_count": 3,
     "metadata": {},
     "output_type": "execute_result"
    }
   ],
   "source": [
    "normsq = computeSP2(opq)"
   ]
  },
  {
   "cell_type": "markdown",
   "metadata": {},
   "source": [
    "For the general case\n",
    "$$\n",
    "\\langle \\phi_{i_1} \\phi_{i_2} \\cdots \\phi_{i_{m-1}}, \\phi_{i_m} \\rangle\n",
    "= \\int \\phi_{i_1}(t) \\phi_{i_2}(t) \\cdots \\phi_{i_{m-1}}(t) \\phi_{i_m}(t) w(t) \\mathrm{d} t,\n",
    "$$\n",
    "there exists a type `Tensor` that requires only two arguments: the *dimension* $m \\geq 1$, and an `OrthoPolyQ`"
   ]
  },
  {
   "cell_type": "code",
   "execution_count": 4,
   "metadata": {},
   "outputs": [
    {
     "data": {
      "text/plain": []
     },
     "execution_count": 4,
     "metadata": {},
     "output_type": "execute_result"
    },
    {
     "name": "stdout",
     "output_type": "stream",
     "text": [
      "\n",
      "\u001b[4m3-dimensional tensor\u001b[24m\n",
      "dim:\u001b[0m\t\t3\n",
      "nonzeros:\u001b[0m\t25\n",
      "\n",
      "\u001b[4mUnivariate orthogonal polynomials\u001b[24m\n",
      "name:\u001b[94m\t\tbeta01\u001b[39m\n",
      "degree:\u001b[0m\t\t4\n",
      "#coeffs:\u001b[0m\t20\n",
      "α =\u001b[0m\t\t[0.396226, 0.453089, 0.473266, 0.482729, 0.487923, 0.491081, 0.493143]...\n",
      "β =\u001b[0m\t\t[1.0, 0.0379732, 0.0495282, 0.0544964, 0.0570749, 0.0585822, 0.0595388]...\n",
      "\n",
      "\u001b[4mMeasure dλ(t)=w(t)dt\u001b[24m\n",
      "name:\t\t\u001b[94mbeta01\u001b[39m\n",
      "w(t):\t\tgetfield(PolyChaos, Symbol(\"##86#87\")){Float64,Float64}(2.1, 3.2)\n",
      "dom:\t\t(0.0, 1.0)\n",
      "symmetric:\t\u001b[31mfalse\u001b[39m\n",
      "pars:\u001b[0m\t\t:shape_b => 3.2\n",
      "\u001b[0m\t\t:shape_a => 2.1\n",
      "\n",
      "\u001b[4mQuadrature rule\u001b[24m\n",
      "name:\u001b[94m\t\tgolubwelsch\u001b[39m\n",
      "N:\u001b[0m\t\t20\n",
      "nodes\u001b[0m\t\t[0.00801337, 0.0259548, 0.0534374, 0.0899073, 0.134632, 0.186713, 0.245104]...\n",
      "weights\u001b[0m\t\t[0.000950472, 0.00581637, 0.017016, 0.035118, 0.0584312, 0.083353, 0.10533]...\n"
     ]
    }
   ],
   "source": [
    "m = 3\n",
    "t = Tensor(3,opq)"
   ]
  },
  {
   "cell_type": "markdown",
   "metadata": {},
   "source": [
    "To get the desired entries, `Tensor`comes with a `get()` function that is called for some index $a \\in \\mathbb{N}_0^m$ that has the entries $a = [i_1, i_2, \\dots, i_m]$.\n",
    "For example\n"
   ]
  },
  {
   "cell_type": "code",
   "execution_count": 5,
   "metadata": {},
   "outputs": [
    {
     "data": {
      "text/plain": [
       "0.00010249372143217317"
      ]
     },
     "execution_count": 5,
     "metadata": {},
     "output_type": "execute_result"
    }
   ],
   "source": [
    "t.get([1,2,3])"
   ]
  },
  {
   "cell_type": "markdown",
   "metadata": {},
   "source": [
    "Or using comprehension"
   ]
  },
  {
   "cell_type": "code",
   "execution_count": 6,
   "metadata": {},
   "outputs": [
    {
     "data": {
      "text/plain": [
       "5×5×5 Array{Float64,3}:\n",
       "[:, :, 1] =\n",
       " 1.0  0.0        0.0         0.0          0.0       \n",
       " 0.0  0.0379732  0.0         0.0          0.0       \n",
       " 0.0  0.0        0.00188074  0.0          0.0       \n",
       " 0.0  0.0        0.0         0.000102494  0.0       \n",
       " 0.0  0.0        0.0         0.0          5.84982e-6\n",
       "\n",
       "[:, :, 2] =\n",
       " 0.0         0.0379732     0.0           0.0           0.0        \n",
       " 0.0379732   0.00215924    0.00188074   -2.03288e-18  -6.93455e-19\n",
       " 0.0         0.00188074    0.000144891   0.000102494  -2.37884e-19\n",
       " 0.0        -2.03288e-18   0.000102494   8.86598e-6    5.84982e-6 \n",
       " 0.0        -6.93455e-19  -2.37884e-19   5.84982e-6    5.36411e-7 \n",
       "\n",
       "[:, :, 3] =\n",
       " 0.0          0.0          0.00188074   0.0           0.0        \n",
       " 0.0          0.00188074   0.000144891  0.000102494  -2.37884e-19\n",
       " 0.00188074   0.000144891  0.000127149  1.0934e-5     5.84982e-6 \n",
       " 0.0          0.000102494  1.0934e-5    7.80614e-6    7.09802e-7 \n",
       " 0.0         -2.37884e-19  5.84982e-6   7.09802e-7    4.73123e-7 \n",
       "\n",
       "[:, :, 4] =\n",
       " 0.0           0.0          0.0          0.000102494  0.0       \n",
       " 0.0          -2.03288e-18  0.000102494  8.86598e-6   5.84982e-6\n",
       " 0.0           0.000102494  1.0934e-5    7.80614e-6   7.09802e-7\n",
       " 0.000102494   8.86598e-6   7.80614e-6   9.40423e-7   5.08904e-7\n",
       " 0.0           5.84982e-6   7.09802e-7   5.08904e-7   6.53232e-8\n",
       "\n",
       "[:, :, 5] =\n",
       " 0.0          0.0           0.0          0.0         5.84982e-6\n",
       " 0.0         -6.93455e-19  -2.37884e-19  5.84982e-6  5.36411e-7\n",
       " 0.0         -2.37884e-19   5.84982e-6   7.09802e-7  4.73123e-7\n",
       " 0.0          5.84982e-6    7.09802e-7   5.08904e-7  6.53232e-8\n",
       " 5.84982e-6   5.36411e-7    4.73123e-7   6.53232e-8  3.55404e-8"
      ]
     },
     "execution_count": 6,
     "metadata": {},
     "output_type": "execute_result"
    }
   ],
   "source": [
    "T = [ t.get([i1,i2,i3]) for i1=0:dim(opq)-1,i2=0:dim(opq)-1,i3=0:dim(opq)-1]"
   ]
  },
  {
   "cell_type": "markdown",
   "metadata": {},
   "source": [
    "Notice that we can cross-check the results."
   ]
  },
  {
   "cell_type": "code",
   "execution_count": 7,
   "metadata": {},
   "outputs": [
    {
     "name": "stdout",
     "output_type": "stream",
     "text": [
      "normsq == LinearAlgebra.diag(T[:, :, 1]) = true\n",
      "normsq == LinearAlgebra.diag(T[:, 1, :]) = true\n",
      "normsq == LinearAlgebra.diag(T[1, :, :]) = true\n"
     ]
    },
    {
     "data": {
      "text/plain": [
       "true"
      ]
     },
     "execution_count": 7,
     "metadata": {},
     "output_type": "execute_result"
    }
   ],
   "source": [
    "using LinearAlgebra\n",
    "@show normsq == LinearAlgebra.diag(T[:,:,1])\n",
    "@show normsq == LinearAlgebra.diag(T[:,1,:])\n",
    "@show normsq == LinearAlgebra.diag(T[1,:,:])"
   ]
  },
  {
   "cell_type": "markdown",
   "metadata": {},
   "source": [
    "Also, `normsq` can be computed analogously in `Tensor` format"
   ]
  },
  {
   "cell_type": "code",
   "execution_count": 8,
   "metadata": {},
   "outputs": [
    {
     "name": "stdout",
     "output_type": "stream",
     "text": [
      "normsq == [t2.get([i, i]) for i = 0:dim(opq) - 1] = true\n"
     ]
    },
    {
     "data": {
      "text/plain": [
       "true"
      ]
     },
     "execution_count": 8,
     "metadata": {},
     "output_type": "execute_result"
    }
   ],
   "source": [
    "t2 = Tensor(2,opq)\n",
    "@show normsq == [ t2.get([i,i]) for i=0:dim(opq)-1]"
   ]
  },
  {
   "cell_type": "markdown",
   "metadata": {},
   "source": [
    "### Arbitrary Weights\n",
    "Of course, the type `OrthoPolyQ` can be constructed for arbitrary weights $w(t)$.\n",
    "In this case we have to compute the orthogonal basis and the respective quadrature rule.\n",
    "Let's re-work the above example by hand."
   ]
  },
  {
   "cell_type": "code",
   "execution_count": 9,
   "metadata": {},
   "outputs": [
    {
     "data": {
      "text/plain": []
     },
     "execution_count": 9,
     "metadata": {},
     "output_type": "execute_result"
    },
    {
     "name": "stdout",
     "output_type": "stream",
     "text": [
      "\n",
      "\u001b[4mUnivariate orthogonal polynomials\u001b[24m\n",
      "name:\u001b[94m\t\tmy_op\u001b[39m\n",
      "degree:\u001b[0m\t\t4\n",
      "#coeffs:\u001b[0m\t20\n",
      "α =\u001b[0m\t\t[0.396226, 0.453089, 0.473266, 0.482729, 0.487923, 0.491081, 0.493143]...\n",
      "β =\u001b[0m\t\t[1.0, 0.0379732, 0.0495282, 0.0544964, 0.0570749, 0.0585822, 0.0595388]...\n",
      "\n",
      "\u001b[4mMeasure dλ(t)=w(t)dt\u001b[24m\n",
      "name:\t\t\u001b[94mmy_meas\u001b[39m\n",
      "w(t):\t\tw\n",
      "dom:\t\t(0.0, 1.0)\n",
      "symmetric:\t\u001b[31mfalse\u001b[39m\n",
      "\n",
      "\u001b[4mQuadrature rule\u001b[24m\n",
      "name:\u001b[94m\t\tgolubwelsch\u001b[39m\n",
      "N:\u001b[0m\t\t20\n",
      "nodes\u001b[0m\t\t[0.00801337, 0.0259548, 0.0534374, 0.0899073, 0.134632, 0.186713, 0.245104]...\n",
      "weights\u001b[0m\t\t[0.000950472, 0.00581637, 0.017016, 0.035118, 0.0584312, 0.083353, 0.10533]...\n"
     ]
    }
   ],
   "source": [
    "using SpecialFunctions\n",
    "supp = (0,1)\n",
    "function w(t)\n",
    "    supp[1]<=t<=supp[2] ? (t^(s_α-1)*(1-t)^(s_β-1)/SpecialFunctions.beta(s_α,s_β)) : error(\"$t not in support\")\n",
    "end\n",
    "my_meas = Measure(\"my_meas\",w,supp,false,Dict())\n",
    "my_op = OrthoPoly(\"my_op\",deg,my_meas;Nrec=n)\n",
    "my_quad = Quad(n,my_op)\n",
    "my_opq = OrthoPolyQ(my_op,my_quad)"
   ]
  },
  {
   "cell_type": "markdown",
   "metadata": {},
   "source": [
    "Now we can compute the squared norms $\\| \\phi_k \\|^2$"
   ]
  },
  {
   "cell_type": "code",
   "execution_count": 10,
   "metadata": {},
   "outputs": [
    {
     "data": {
      "text/plain": [
       "5-element Array{Float64,1}:\n",
       " 0.9999999999996537    \n",
       " 0.03797318144055165   \n",
       " 0.0018807430768424923 \n",
       " 0.00010249372143130952\n",
       " 5.849823409460972e-6  "
      ]
     },
     "execution_count": 10,
     "metadata": {},
     "output_type": "execute_result"
    }
   ],
   "source": [
    "my_normsq = computeSP2(my_opq)"
   ]
  },
  {
   "cell_type": "markdown",
   "metadata": {},
   "source": [
    "And the tensor"
   ]
  },
  {
   "cell_type": "code",
   "execution_count": 11,
   "metadata": {},
   "outputs": [
    {
     "data": {
      "text/plain": [
       "5×5×5 Array{Float64,3}:\n",
       "[:, :, 1] =\n",
       " 1.0  0.0        0.0         0.0          0.0       \n",
       " 0.0  0.0379732  0.0         0.0          0.0       \n",
       " 0.0  0.0        0.00188074  0.0          0.0       \n",
       " 0.0  0.0        0.0         0.000102494  0.0       \n",
       " 0.0  0.0        0.0         0.0          5.84982e-6\n",
       "\n",
       "[:, :, 2] =\n",
       " 0.0         0.0379732     0.0           0.0           0.0        \n",
       " 0.0379732   0.00215924    0.00188074   -1.68221e-18  -5.05096e-19\n",
       " 0.0         0.00188074    0.000144891   0.000102494  -1.92621e-19\n",
       " 0.0        -1.68221e-18   0.000102494   8.86598e-6    5.84982e-6 \n",
       " 0.0        -5.05096e-19  -1.92621e-19   5.84982e-6    5.36411e-7 \n",
       "\n",
       "[:, :, 3] =\n",
       " 0.0          0.0          0.00188074   0.0           0.0        \n",
       " 0.0          0.00188074   0.000144891  0.000102494  -1.92621e-19\n",
       " 0.00188074   0.000144891  0.000127149  1.0934e-5     5.84982e-6 \n",
       " 0.0          0.000102494  1.0934e-5    7.80614e-6    7.09802e-7 \n",
       " 0.0         -1.92621e-19  5.84982e-6   7.09802e-7    4.73123e-7 \n",
       "\n",
       "[:, :, 4] =\n",
       " 0.0           0.0          0.0          0.000102494  0.0       \n",
       " 0.0          -1.68221e-18  0.000102494  8.86598e-6   5.84982e-6\n",
       " 0.0           0.000102494  1.0934e-5    7.80614e-6   7.09802e-7\n",
       " 0.000102494   8.86598e-6   7.80614e-6   9.40423e-7   5.08904e-7\n",
       " 0.0           5.84982e-6   7.09802e-7   5.08904e-7   6.53232e-8\n",
       "\n",
       "[:, :, 5] =\n",
       " 0.0          0.0           0.0          0.0         5.84982e-6\n",
       " 0.0         -5.05096e-19  -1.92621e-19  5.84982e-6  5.36411e-7\n",
       " 0.0         -1.92621e-19   5.84982e-6   7.09802e-7  4.73123e-7\n",
       " 0.0          5.84982e-6    7.09802e-7   5.08904e-7  6.53232e-8\n",
       " 5.84982e-6   5.36411e-7    4.73123e-7   6.53232e-8  3.55404e-8"
      ]
     },
     "execution_count": 11,
     "metadata": {},
     "output_type": "execute_result"
    }
   ],
   "source": [
    "my_t = Tensor(m,my_opq)\n",
    "my_T = [ my_t.get([i1,i2,i3]) for i1=0:dim(opq)-1,i2=0:dim(opq)-1,i3=0:dim(opq)-1]"
   ]
  },
  {
   "cell_type": "markdown",
   "metadata": {},
   "source": [
    "Let's compare the results:"
   ]
  },
  {
   "cell_type": "code",
   "execution_count": 12,
   "metadata": {},
   "outputs": [
    {
     "name": "stdout",
     "output_type": "stream",
     "text": [
      "abs.(normsq - my_normsq) = [3.46279e-13, 5.59067e-14, 7.39426e-15, 8.64245e-16, 9.28738e-17]\n",
      "norm(T - my_T) = 3.6010203490063825e-13\n"
     ]
    },
    {
     "data": {
      "text/plain": [
       "3.6010203490063825e-13"
      ]
     },
     "execution_count": 12,
     "metadata": {},
     "output_type": "execute_result"
    }
   ],
   "source": [
    "@show abs.(normsq-my_normsq)\n",
    "@show norm(T-my_T)"
   ]
  },
  {
   "cell_type": "markdown",
   "metadata": {},
   "source": [
    "Notice: __The possibility to create quadrature rules for arbitrary weights should be reserved to cases different from *classical* ones.__"
   ]
  },
  {
   "cell_type": "markdown",
   "metadata": {},
   "source": [
    "### Multivariate Polynomials\n",
    "For multivariate polynomials the syntax for `Tensor` is very much alike, except that we are dealing with the type `MultiOrthoPoly` now."
   ]
  },
  {
   "cell_type": "code",
   "execution_count": 13,
   "metadata": {},
   "outputs": [
    {
     "name": "stdout",
     "output_type": "stream",
     "text": [
      "\n",
      "\u001b[4m2-variate orthogonal polynomials\u001b[24m\n",
      "name:\u001b[94m\t\tbeta01\u001b[39m\n",
      "\u001b[94m\t\tmy_op\u001b[39m\n",
      "deg:\u001b[0m\t\t4\n",
      "dim:\u001b[0m\t\t15\n",
      "ind:\u001b[0m\t\t[0, 0]\n"
     ]
    },
    {
     "data": {
      "text/plain": []
     },
     "execution_count": 13,
     "metadata": {},
     "output_type": "execute_result"
    },
    {
     "name": "stdout",
     "output_type": "stream",
     "text": [
      "\u001b[0m\t\t[1, 0]\n",
      "\u001b[0m\t\t[0, 1]\n",
      "\u001b[0m\t\t[2, 0]\n",
      "\u001b[0m\t\t[1, 1]\n",
      "\u001b[0m\t\t[0, 2]\n",
      "\u001b[0m\t\t[3, 0]\n",
      "\t\t...\n",
      "\n"
     ]
    }
   ],
   "source": [
    "mop = MultiOrthoPoly([opq,my_opq],deg)"
   ]
  },
  {
   "cell_type": "code",
   "execution_count": 14,
   "metadata": {},
   "outputs": [
    {
     "data": {
      "text/plain": [
       "15-element Array{Float64,1}:\n",
       " 0.9999999999996537    \n",
       " 0.03797318144059441   \n",
       " 0.03797318144055165   \n",
       " 0.0018807430768492354 \n",
       " 0.0014419625087191794 \n",
       " 0.0018807430768424923 \n",
       " 0.00010249372143213827\n",
       " 7.141779810028212e-5  \n",
       " 7.141779810010648e-5  \n",
       " 0.00010249372143130952\n",
       " 5.849823409551821e-6  \n",
       " 3.892012680461292e-6  \n",
       " 3.5371945211048713e-6 \n",
       " 3.892012680434204e-6  \n",
       " 5.849823409460972e-6  "
      ]
     },
     "execution_count": 14,
     "metadata": {},
     "output_type": "execute_result"
    }
   ],
   "source": [
    "mt2 = Tensor(2,mop)\n",
    "mt3 = Tensor(3,mop)\n",
    "mT2 = [ mt2.get([i,i]) for i=0:dim(mop)-1 ]"
   ]
  },
  {
   "cell_type": "markdown",
   "metadata": {},
   "source": [
    "Notice that `mT2` carries the elements of the 2-dimensional tensors for the univariate bases `opq` and `my_opq`.\n",
    "The encoding is given by the multi-index `mop.ind`"
   ]
  },
  {
   "cell_type": "code",
   "execution_count": 15,
   "metadata": {},
   "outputs": [
    {
     "data": {
      "text/plain": [
       "15×2 Array{Int64,2}:\n",
       " 0  0\n",
       " 1  0\n",
       " 0  1\n",
       " 2  0\n",
       " 1  1\n",
       " 0  2\n",
       " 3  0\n",
       " 2  1\n",
       " 1  2\n",
       " 0  3\n",
       " 4  0\n",
       " 3  1\n",
       " 2  2\n",
       " 1  3\n",
       " 0  4"
      ]
     },
     "execution_count": 15,
     "metadata": {},
     "output_type": "execute_result"
    }
   ],
   "source": [
    "mop.ind"
   ]
  },
  {
   "cell_type": "markdown",
   "metadata": {},
   "source": [
    "To cross-check the results we can distribute the multi-index back to its univariate indices with the help of `findUnivariateIndices`."
   ]
  },
  {
   "cell_type": "code",
   "execution_count": 16,
   "metadata": {},
   "outputs": [
    {
     "data": {
      "text/plain": [
       "5-element Array{Int64,1}:\n",
       "  1\n",
       "  3\n",
       "  6\n",
       " 10\n",
       " 15"
      ]
     },
     "execution_count": 16,
     "metadata": {},
     "output_type": "execute_result"
    }
   ],
   "source": [
    "ind_opq = findUnivariateIndices(1,mop.ind)\n",
    "ind_my_opq = findUnivariateIndices(2,mop.ind)"
   ]
  },
  {
   "cell_type": "code",
   "execution_count": 17,
   "metadata": {},
   "outputs": [
    {
     "name": "stdout",
     "output_type": "stream",
     "text": [
      "mT2[ind_opq] - normsq = [-3.46279e-13, -1.31492e-14, -6.51172e-16, -3.54941e-17, -2.02526e-18]\n",
      "mT2[ind_my_opq] - my_normsq = [0.0, 0.0, 0.0, 0.0, 0.0]\n"
     ]
    }
   ],
   "source": [
    "@show mT2[ind_opq] - normsq\n",
    "@show mT2[ind_my_opq] - my_normsq;"
   ]
  }
 ],
 "metadata": {
  "kernelspec": {
   "display_name": "Julia 0.7.0",
   "language": "julia",
   "name": "julia-0.7"
  },
  "language_info": {
   "file_extension": ".jl",
   "mimetype": "application/julia",
   "name": "julia",
   "version": "0.7.0"
  }
 },
 "nbformat": 4,
 "nbformat_minor": 2
}
