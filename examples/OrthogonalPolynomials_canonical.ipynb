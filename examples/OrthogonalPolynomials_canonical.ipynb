{
 "cells": [
  {
   "cell_type": "markdown",
   "metadata": {},
   "source": [
    "# Univariate Monic Orthogonal Polynomials\n",
    "Univariate monic orthogonal polynomials make up the core building block of the package.\n",
    "These are real polynomials $\\{ \\pi_k \\}_{k \\geq 0}$, which are univariate $\\pi_k: \\mathbb{R} \\rightarrow \\mathbb{R}$ and orthogonal relative to a nonnegative weight function $w: \\mathbb{R} \\rightarrow \\mathbb{R}_{\\geq 0}$, and which have a leading coefficient equal to one:\n",
    "$$\n",
    "\\begin{aligned}\n",
    "\\pi_k(t) &= t^k + a_{k-1} t^{k-1} + \\dots + a_1 t + a_0 \\quad \\forall k = 0, 1, \\dots \\\\\n",
    "\\langle \\pi_k, \\pi_l \\rangle &= \\int_{\\mathbb{R}} \\pi_k(t) \\pi_l(t) w(t) \\mathrm{d}t =\n",
    "\\begin{cases}\n",
    "0 & k \\neq l, \\text{ and }k,l \\geq 0 \\\\\n",
    "\\| \\pi_k \\|^2 > 0 & k = l \\geq 0\n",
    "\\end{cases}\n",
    "\\end{aligned}\n",
    "$$\n",
    "\n",
    "These univariate monic orthogonal polynomials satisfy the paramount three-term recurrence relation\n",
    "$$\n",
    "\\begin{aligned}\n",
    "\\pi_{k+1}(t) &= (t - \\alpha_k) \\pi_k(t) - \\beta_k \\pi_{k-1}(t), \\quad k= 0, 1, \\dots, \\\\\n",
    "\\pi_o(t) &= 1, \\\\\n",
    "\\pi_{-1}(t) &= 0.\n",
    "\\end{aligned}\n",
    "$$\n",
    "\n",
    "Hence, every system of $n$ univariate monic orthogonal polynomials $\\{ \\pi_k \\}_{k=0}^n$ is isomorphic to its recurrence coefficients $\\{ \\alpha_k, \\beta_k \\}_{k=0}^n$.\n",
    "\n",
    "\n",
    "## Classical Orthogonal Polynomials\n",
    "\n",
    "The so-called *classical* orthogonal polynomials are polynomials named after famous mathematicians who each discovered a special family of orthogonal polynomials, for example [Hermite polynomials](https://en.wikipedia.org/wiki/Hermite_polynomials) or [Jacobi polynomials](https://en.wikipedia.org/wiki/Jacobi_polynomials).\n",
    "For *classical* orthogonal polynomials there exist closed-form expressions of---among others---the recurrence coefficients.\n",
    "Also quadrature rules for *classical* orthogonal polynomials are well-studied (with dedicated packages such as [FastGaussQuadrature.jl](https://github.com/ajt60gaibb/FastGaussQuadrature.jl).\n",
    "However, more often than not these *classical* orthogonal polynomials are neither monic nor orthogonal, hence not normalized in any sense.\n",
    "For example, there is a distinction between the [*probabilists'* Hermite polynomials](https://en.wikipedia.org/wiki/Hermite_polynomials#Definition) and the [*physicists'* Hermite polynomials](https://en.wikipedia.org/wiki/Hermite_polynomials#Definition).\n",
    "The difference is in the weight function $w(t)$ relative to which the polynomials are orthogonal:\n",
    "$$\n",
    "\\begin{aligned}\n",
    "\\text{Probabilists':} &&&w(t) = \\frac{1}{\\sqrt{2 \\pi}} \\, \\exp \\left( - \\frac{t^2}{2} \\right) \\\\\n",
    "\\text{Physicists':} &&&w(t) =  \\exp \\left( - t^2 \\right).\n",
    "\\end{aligned}\n",
    "$$\n",
    "\n",
    "To streamline the computations, all *classical* orthogonal polynomials are converted to __monic__ orthogonal polynomials (for which, of course, the closed-form expressions persist).\n",
    "Currently, the following weight functions (hence *classical* orthogonal polynomials) are supported:\n",
    "\n",
    "| Name | &nbsp; &nbsp; &nbsp; &nbsp; &nbsp; &nbsp; &nbsp; &nbsp; &nbsp; &nbsp; &nbsp;&nbsp; &nbsp; &nbsp; &nbsp;&nbsp; &nbsp; &nbsp;&nbsp; &nbsp; &nbsp; &nbsp; &nbsp; &nbsp; Weight $w(t)$| &nbsp; &nbsp; &nbsp; &nbsp; &nbsp; &nbsp; Parameters |&nbsp; &nbsp; &nbsp;&nbsp; &nbsp; &nbsp; Support| *Classical* polynomial |\n",
    "| --- | --- | --- | --- | --- |\n",
    "| `hermite` | $ \\exp \\left( - t^2 \\right)$ | - | $(-\\infty, \\infty)$ | Hermite | \n",
    "| `genhermite` | $ \\lvert t \\rvert^{2 \\mu}\\exp \\left( - t^2 \\right)$ | $\\mu > -\\frac{1}{2}$ | $(-\\infty, \\infty)$ | Generalized Hermite | \n",
    "| `legendre` | $1$ | - | $(-1,1)$ | Legendre\n",
    "| `jacobi` | $(1-t)^{\\alpha} (1+t)^{\\beta}$ | $\\alpha, \\beta > -1$ | $(-1,1)$ | Jacobi |\n",
    "| `laguerre` | $\\exp(-t)$ | - | $(0,\\infty)$ | Laguerre |\n",
    "| `genlaguerre` | $t^{\\alpha}\\exp(-t)$ | $\\alpha>-1$ | $(0,\\infty)$ | Generalized Laguerre |\n",
    "| `meixnerpollaczek` | $\\frac{1}{2 \\pi} \\exp((2\\phi-\\pi)t) \\lvert\\Gamma(\\lambda + \\mathrm{i}t) \\rvert^2$ |$\\lambda > 0, 0<\\phi<\\pi$ | $(-\\infty,\\infty)$ | Meixner-Pollaczek\n",
    "\n",
    "\n",
    "Additionally, the following weight functions that are equivalent to probability density functions are supported:\n",
    "\n",
    "| Name | &nbsp; &nbsp; &nbsp; &nbsp; &nbsp; &nbsp; &nbsp; &nbsp; &nbsp; &nbsp; &nbsp; &nbsp; Weight $w(t)$| &nbsp; &nbsp; &nbsp; &nbsp; &nbsp; &nbsp; Parameters | &nbsp; &nbsp; &nbsp;&nbsp; &nbsp; &nbsp; Support| *Classical* polynomial |\n",
    "| --- | --- | --- | --- | --- | \n",
    "| `gaussian` | $\\frac{1}{\\sqrt{2 \\pi}} \\, \\exp \\left( - \\frac{t^2}{2} \\right)$ | - | $(-\\infty, \\infty)$ | Probabilists' Hermite | \n",
    "| `uniform01` | $1$ | - | $(0,1)$ |  Legendre\n",
    "| `beta01` | $\\frac{1}{B(\\alpha,\\beta)} \\, t^{\\alpha-1} (1-t)^{\\beta-1}$ |$\\alpha, \\beta > 0$ | $(0,1)$ | Jacobi |\n",
    "| `gamma` | $\\frac{\\beta^\\alpha}{\\Gamma(\\alpha)} t^{\\alpha-1} \\exp(-\\beta t)$ | $\\alpha, \\beta > 0$ | $(0,\\infty)$ | Laguerre |\n",
    "| `logistic` | $\\frac{\\exp(-t)}{(1+\\exp(-t))^2}$ | - | $(-\\infty,\\infty)$ | -\n",
    "\n",
    "To generate the orthogonal polynomials up to maximum degree `deg`, simply call"
   ]
  },
  {
   "cell_type": "code",
   "execution_count": 1,
   "metadata": {},
   "outputs": [
    {
     "name": "stdout",
     "output_type": "stream",
     "text": [
      "\n",
      "\u001b[4mUnivariate orthogonal polynomials\u001b[24m\n",
      "name:\u001b[94m\t\tgaussian\u001b[39m\n",
      "degree:\u001b[0m\t\t4\n",
      "#coeffs:\u001b[0m\t5\n",
      "α ="
     ]
    },
    {
     "data": {
      "text/plain": []
     },
     "execution_count": 1,
     "metadata": {},
     "output_type": "execute_result"
    },
    {
     "name": "stdout",
     "output_type": "stream",
     "text": [
      "\u001b[0m\t\t[0.0, 0.0, 0.0, 0.0, 0.0]\n",
      "β =\u001b[0m\t\t[1.0, 1.0, 2.0, 3.0, 4.0]\n",
      "\n",
      "\u001b[4mMeasure dλ(t)=w(t)dt\u001b[24m\n",
      "name:\t\t\u001b[94mgaussian\u001b[39m\n",
      "w(t):\t\tPolyChaos.w_gaussian\n",
      "dom:\t\t(-Inf, Inf)\n",
      "symmetric:\t\u001b[32mtrue\u001b[39m\n"
     ]
    }
   ],
   "source": [
    "using PolyChaos\n",
    "deg = 4\n",
    "op = OrthoPoly(\"gaussian\",deg)"
   ]
  },
  {
   "cell_type": "markdown",
   "metadata": {},
   "source": [
    "This generates `op`as an `OrthoPoly` type with the underlying Gaussian measure `op.meas`.\n",
    "The recurrence coefficients are accessible via `coeffs()`."
   ]
  },
  {
   "cell_type": "code",
   "execution_count": 2,
   "metadata": {},
   "outputs": [
    {
     "data": {
      "text/plain": [
       "5×2 Array{Float64,2}:\n",
       " 0.0  1.0\n",
       " 0.0  1.0\n",
       " 0.0  2.0\n",
       " 0.0  3.0\n",
       " 0.0  4.0"
      ]
     },
     "execution_count": 2,
     "metadata": {},
     "output_type": "execute_result"
    }
   ],
   "source": [
    "coeffs(op)"
   ]
  },
  {
   "cell_type": "markdown",
   "metadata": {},
   "source": [
    "By default, the constructor for `OrthoPoly` generates `deg+1` recurrence coefficients.\n",
    "Sometimes, some other number `Nrec` may be required.\n",
    "This is why `Nrec` is a keyword for the constructor `OrthoPoly`."
   ]
  },
  {
   "cell_type": "code",
   "execution_count": 3,
   "metadata": {},
   "outputs": [
    {
     "data": {
      "text/plain": []
     },
     "execution_count": 3,
     "metadata": {},
     "output_type": "execute_result"
    },
    {
     "name": "stdout",
     "output_type": "stream",
     "text": [
      "\n",
      "\u001b[4mUnivariate orthogonal polynomials\u001b[24m\n",
      "name:\u001b[94m\t\tlogistic\u001b[39m\n",
      "degree:\u001b[0m\t\t4\n",
      "#coeffs:\u001b[0m\t100\n",
      "α =\u001b[0m\t\t[0.0, 0.0, 0.0, 0.0, 0.0, 0.0, 0.0]...\n",
      "β =\u001b[0m\t\t[1.0, 3.28987, 10.5276, 22.8411, 40.1051, 62.3081, 89.4476]...\n",
      "\n",
      "\u001b[4mMeasure dλ(t)=w(t)dt\u001b[24m\n",
      "name:\t\t\u001b[94mlogistic\u001b[39m\n",
      "w(t):\t\tPolyChaos.w_logistic\n",
      "dom:\t\t(-Inf, Inf)\n",
      "symmetric:\t\u001b[32mtrue\u001b[39m\n"
     ]
    }
   ],
   "source": [
    "N = 100\n",
    "op_ = OrthoPoly(\"logistic\",deg;Nrec=N)"
   ]
  },
  {
   "cell_type": "markdown",
   "metadata": {},
   "source": [
    "Let's check whether we truly have more coefficients:"
   ]
  },
  {
   "cell_type": "code",
   "execution_count": 4,
   "metadata": {},
   "outputs": [
    {
     "data": {
      "text/plain": [
       "true"
      ]
     },
     "execution_count": 4,
     "metadata": {},
     "output_type": "execute_result"
    }
   ],
   "source": [
    "size(coeffs(op_),1)==N"
   ]
  },
  {
   "cell_type": "markdown",
   "metadata": {},
   "source": [
    "## Arbitrary Weights\n",
    "\n",
    "If you are given a weight function $w$ that does not belong to the Table above, it is still possible to generate the respective univariate monic orthogonal polynomials.\n",
    "First, we define the measure by specifying a name, the weight, the support, symmetry, and parameters"
   ]
  },
  {
   "cell_type": "code",
   "execution_count": 5,
   "metadata": {},
   "outputs": [
    {
     "data": {
      "text/plain": []
     },
     "execution_count": 5,
     "metadata": {},
     "output_type": "execute_result"
    },
    {
     "name": "stdout",
     "output_type": "stream",
     "text": [
      "\u001b[4mMeasure dλ(t)=w(t)dt\u001b[24m\n",
      "name:\t\t\u001b[94mmy_meas\u001b[39m\n",
      "w(t):\t\tw\n",
      "dom:\t\t(-1.0, 1.0)\n",
      "symmetric:\t\u001b[31mfalse\u001b[39m\n"
     ]
    }
   ],
   "source": [
    "supp = (-1,1)\n",
    "function w(t)\n",
    "    supp[1]<=t<=supp[2] ? (1. + t) : error(\"$t not in support\")\n",
    "end\n",
    "my_meas = Measure(\"my_meas\",w,supp,false,Dict())"
   ]
  },
  {
   "cell_type": "markdown",
   "metadata": {},
   "source": [
    "Notice: it is advisable to define the weight such that an error is thrown for arguments outside of the support.\n",
    "\n",
    "Now, we want to construct the univariate monic orthogonal polynomials up to degree `deg` relative to `m`.\n",
    "The constructor is"
   ]
  },
  {
   "cell_type": "code",
   "execution_count": 6,
   "metadata": {},
   "outputs": [
    {
     "data": {
      "text/plain": []
     },
     "execution_count": 6,
     "metadata": {},
     "output_type": "execute_result"
    },
    {
     "name": "stdout",
     "output_type": "stream",
     "text": [
      "\n",
      "\u001b[4mUnivariate orthogonal polynomials\u001b[24m\n",
      "name:\u001b[94m\t\tmy_op\u001b[39m\n",
      "degree:\u001b[0m\t\t4\n",
      "#coeffs:\u001b[0m\t5\n",
      "α =\u001b[0m\t\t[0.333333, 0.0666667, 0.0285714, 0.015873, 0.010101]\n",
      "β =\u001b[0m\t\t[2.0, 0.222222, 0.24, 0.244898, 0.246914]\n",
      "\n",
      "\u001b[4mMeasure dλ(t)=w(t)dt\u001b[24m\n",
      "name:\t\t\u001b[94mmy_meas\u001b[39m\n",
      "w(t):\t\tw\n",
      "dom:\t\t(-1.0, 1.0)\n",
      "symmetric:\t\u001b[31mfalse\u001b[39m\n"
     ]
    }
   ],
   "source": [
    "my_op = OrthoPoly(\"my_op\",deg,my_meas;Nquad=200)"
   ]
  },
  {
   "cell_type": "markdown",
   "metadata": {},
   "source": [
    "By default, the recurrence coefficients are computed using the [Stieltjes procuedure](https://warwick.ac.uk/fac/sci/maths/research/grants/equip/grouplunch/1985Gautschi.pdf) with [Clenshaw-Curtis](https://en.wikipedia.org/wiki/Clenshaw%E2%80%93Curtis_quadrature) quadrature (with `Nquad` nodes and weights).\n",
    "Hence, the choice of `Nquad` influences accuracy.\n"
   ]
  },
  {
   "cell_type": "markdown",
   "metadata": {},
   "source": [
    "# Multivariate Monic Orthogonal Polynomials\n",
    "\n",
    "Suppose we have $p$ systems of univariate monic orthogonal polynomials,\n",
    "$$\n",
    "\\{ \\pi_k^{(1)} \\}_{k\\geq 0}, \\: \\{ \\pi_k^{(2)} \\}_{k\\geq 0}, \\dots, \\{ \\pi_k^{(p)} \\}_{k\\geq 0},\n",
    "$$\n",
    "each system being orthogonal relative to the weights $w^{(1)}, w^{(2)}, \\dots, w^{(p)}$ with supports $\\mathcal{W}^{(1)}, \\mathcal{W}^{(2)}, \\dots, \\mathcal{W}^{(p)}$.\n",
    "Also, let $d^{(i)}$ be the maximum degree of the $i$-th system of univariate orthogonal polynomials.\n",
    "We would like to construct a $p$-variate monic basis $\\{ \\psi_k \\}_{k \\geq 0}$ with $\\psi: \\mathbb{R}^p \\rightarrow \\mathbb{R}$ of degree at most $0 \\leq d \\leq \\min_{i=1,\\dots,k}\\{ d^{(i)}\\}$.\n",
    "Further, this basis shall be orthogonal relative to the product measure $w: \\mathcal{W} = \\mathcal{W}^{(1)} \\otimes \\mathcal{W}^{(2)} \\mathcal{W}^{(1)} \\cdots \\otimes \\mathcal{W}^{(p)} \\rightarrow \\mathbb{R}_{\\geq 0}$ given by\n",
    "$$ \n",
    "w(t) = \\prod_{i=1}^{p} w^{(i)}(t_i),\n",
    "$$\n",
    "hence satisfies\n",
    "$$\n",
    "\\langle \\psi_k, \\psi_l \\rangle = \\int_{\\mathcal{W}} \\psi_k(t) \\psi_l(t) w(t) \\mathrm{d} t =\n",
    "\\begin{cases}\n",
    "0 & k \\neq l, \\text{ and }k,l \\geq 0 \\\\\n",
    "\\| \\psi_k \\|^2 > 0 & k = l \\geq 0\n",
    "\\end{cases}\n",
    "$$\n",
    "\n",
    "For this, there exists the composite struct `MultiOrthoPoly`.\n",
    "Let's consider an example where we mix *classical* orthogonal polynomials with an arbitrary weight."
   ]
  },
  {
   "cell_type": "code",
   "execution_count": 7,
   "metadata": {
    "scrolled": true
   },
   "outputs": [
    {
     "name": "stdout",
     "output_type": "stream",
     "text": [
      "\n",
      "\u001b[4m4-variate orthogonal polynomials\u001b[24m\n",
      "name:\u001b[94m\t\tgaussian\u001b[39m\n",
      "\u001b[94m\t\tuniform01\u001b[39m\n",
      "\u001b[94m\t\tbeta01\u001b[39m\n",
      "\u001b[94m\t\tmy_op\u001b[39m\n",
      "deg:\u001b[0m\t\t3\n",
      "dim:\u001b[0m\t\t35\n",
      "ind:\u001b[0m\t\t[0, 0, 0, 0]\n"
     ]
    },
    {
     "data": {
      "text/plain": []
     },
     "execution_count": 7,
     "metadata": {},
     "output_type": "execute_result"
    },
    {
     "name": "stdout",
     "output_type": "stream",
     "text": [
      "\u001b[0m\t\t[1, 0, 0, 0]\n",
      "\u001b[0m\t\t[0, 1, 0, 0]\n",
      "\u001b[0m\t\t[0, 0, 1, 0]\n",
      "\u001b[0m\t\t[0, 0, 0, 1]\n",
      "\u001b[0m\t\t[2, 0, 0, 0]\n",
      "\u001b[0m\t\t[1, 1, 0, 0]\n",
      "\t\t...\n",
      "\n"
     ]
    }
   ],
   "source": [
    "deg = [3,5,6,4]\n",
    "d = minimum(deg)\n",
    "\n",
    "op1 = OrthoPoly(\"gaussian\",deg[1])\n",
    "op2 = OrthoPoly(\"uniform01\",deg[2])\n",
    "op3 = OrthoPoly(\"beta01\",deg[3],Dict(:shape_a=>2,:shape_b=>1.2))\n",
    "ops = [op1,op2,op3,my_op]\n",
    "mop = MultiOrthoPoly(ops,d)"
   ]
  },
  {
   "cell_type": "markdown",
   "metadata": {},
   "source": [
    "The total number of  basis polynomials is stored in the field `dim`.\n",
    "The univariate basis polynomials making up the multivariate basis are stored in the field `uni`.\n"
   ]
  },
  {
   "cell_type": "code",
   "execution_count": 8,
   "metadata": {},
   "outputs": [
    {
     "name": "stdout",
     "output_type": "stream",
     "text": [
      "\n",
      "\u001b[4mUnivariate orthogonal polynomials\u001b[24m\n",
      "name:\u001b[94m\t\tgaussian\u001b[39m\n",
      "degree:\u001b[0m\t\t3\n",
      "#coeffs:\u001b[0m\t4\n",
      "α =\u001b[0m\t\t[0.0, 0.0, 0.0, 0.0]\n",
      "β =\u001b[0m\t\t[1.0, 1.0, 2.0, 3.0]\n",
      "\n",
      "\u001b[4mMeasure dλ(t)=w(t)dt\u001b[24m\n",
      "name:\t\t\u001b[94mgaussian\u001b[39m\n",
      "w(t):\t\tPolyChaos.w_gaussian\n",
      "dom:\t\t(-Inf, Inf)\n",
      "symmetric:\t\u001b[32mtrue\u001b[39m\n",
      "\n",
      "\u001b[4mUnivariate orthogonal polynomials\u001b[24m\n",
      "name:\u001b[94m\t\tuniform01\u001b[39m\n",
      "degree:\u001b[0m\t\t5\n",
      "#coeffs:\u001b[0m\t6\n",
      "α =\u001b[0m\t\t[0.5, 0.5, 0.5, 0.5, 0.5, 0.5]\n",
      "β =\u001b[0m\t\t[1.0, 0.0833333, 0.0666667, 0.0642857, 0.0634921, 0.0631313]\n",
      "\n",
      "\u001b[4mMeasure dλ(t)=w(t)dt\u001b[24m\n",
      "name:\t\t\u001b[94muniform01\u001b[39m\n",
      "w(t):\t\tPolyChaos.w_uniform01\n",
      "dom:\t\t(0.0, 1.0)\n",
      "symmetric:\t\u001b[32mtrue\u001b[39m\n",
      "\n",
      "\u001b[4mUnivariate orthogonal polynomials\u001b[24m\n",
      "name:\u001b[94m\t\tbeta01\u001b[39m\n",
      "degree:\u001b[0m\t\t6\n",
      "#coeffs:\u001b[0m\t7\n",
      "α =\u001b[0m\t\t[0.625, 0.528846, 0.512821, 0.507246, 0.504658, 0.503247, 0.502392]\n",
      "β =\u001b[0m\t\t[1.0, 0.0558036, 0.0599896, 0.0611942, 0.0617011, 0.0619613, 0.0621123]\n",
      "\n",
      "\u001b[4mMeasure dλ(t)=w(t)dt\u001b[24m\n",
      "name:\t\t\u001b[94mbeta01\u001b[39m\n",
      "w(t):\t\tgetfield(PolyChaos, Symbol(\"##86#87\")){Int64,Float64}(2, 1.2)\n",
      "dom:\t\t(0.0, 1.0)\n",
      "symmetric:\t\u001b[31mfalse\u001b[39m\n",
      "pars:"
     ]
    },
    {
     "data": {
      "text/plain": [
       "4-element Array{OrthoPoly,1}:\n",
       " \n",
       " \n",
       " \n",
       " "
      ]
     },
     "execution_count": 8,
     "metadata": {},
     "output_type": "execute_result"
    },
    {
     "name": "stdout",
     "output_type": "stream",
     "text": [
      "\u001b[0m\t\tPair{Symbol,Real}(:shape_b, 1.2)\n",
      "\u001b[0m\t\tPair{Symbol,Real}(:shape_a, 2)\n",
      "\n",
      "\u001b[4mUnivariate orthogonal polynomials\u001b[24m\n",
      "name:\u001b[94m\t\tmy_op\u001b[39m\n",
      "degree:\u001b[0m\t\t4\n",
      "#coeffs:\u001b[0m\t5\n",
      "α =\u001b[0m\t\t[0.333333, 0.0666667, 0.0285714, 0.015873, 0.010101]\n",
      "β =\u001b[0m\t\t[2.0, 0.222222, 0.24, 0.244898, 0.246914]\n",
      "\n",
      "\u001b[4mMeasure dλ(t)=w(t)dt\u001b[24m\n",
      "name:\t\t\u001b[94mmy_meas\u001b[39m\n",
      "w(t):\t\tw\n",
      "dom:\t\t(-1.0, 1.0)\n",
      "symmetric:\t\u001b[31mfalse\u001b[39m\n",
      "\n",
      "\u001b[4mUnivariate orthogonal polynomials\u001b[24m\n",
      "name:\u001b[94m\t\tgaussian\u001b[39m\n",
      "degree:\u001b[0m\t\t3\n",
      "#coeffs:\u001b[0m\t4\n",
      "α =\u001b[0m\t\t[0.0, 0.0, 0.0, 0.0]\n",
      "β =\u001b[0m\t\t[1.0, 1.0, 2.0, 3.0]\n",
      "\n",
      "\u001b[4mMeasure dλ(t)=w(t)dt\u001b[24m\n",
      "name:\t\t\u001b[94mgaussian\u001b[39m\n",
      "w(t):\t\tPolyChaos.w_gaussian\n",
      "dom:\t\t(-Inf, Inf)\n",
      "symmetric:\t\u001b[32mtrue\u001b[39m\n",
      "\n",
      "\u001b[4mUnivariate orthogonal polynomials\u001b[24m\n",
      "name:\u001b[94m\t\tgaussian\u001b[39m\n",
      "degree:\u001b[0m\t\t3\n",
      "#coeffs:\u001b[0m\t4\n",
      "α =\u001b[0m\t\t[0.0, 0.0, 0.0, 0.0]\n",
      "β =\u001b[0m\t\t[1.0, 1.0, 2.0, 3.0]\n",
      "\n",
      "\u001b[4mMeasure dλ(t)=w(t)dt\u001b[24m\n",
      "name:\t\t\u001b[94mgaussian\u001b[39m\n",
      "w(t):\t\tPolyChaos.w_gaussian\n",
      "dom:\t\t(-Inf, Inf)\n",
      "symmetric:\t\u001b[32mtrue\u001b[39m\n",
      "\n",
      "\u001b[4mUnivariate orthogonal polynomials\u001b[24m\n",
      "name:\u001b[94m\t\tuniform01\u001b[39m\n",
      "degree:\u001b[0m\t\t5\n",
      "#coeffs:\u001b[0m\t6\n",
      "α =\u001b[0m\t\t[0.5, 0.5, 0.5, 0.5, 0.5, 0.5]\n",
      "β =\u001b[0m\t\t[1.0, 0.0833333, 0.0666667, 0.0642857, 0.0634921, 0.0631313]\n",
      "\n",
      "\u001b[4mMeasure dλ(t)=w(t)dt\u001b[24m\n",
      "name:\t\t\u001b[94muniform01\u001b[39m\n",
      "w(t):\t\tPolyChaos.w_uniform01\n",
      "dom:\t\t(0.0, 1.0)\n",
      "symmetric:\t\u001b[32mtrue\u001b[39m\n",
      "\n",
      "\u001b[4mUnivariate orthogonal polynomials\u001b[24m\n",
      "name:\u001b[94m\t\tuniform01\u001b[39m\n",
      "degree:\u001b[0m\t\t5\n",
      "#coeffs:\u001b[0m\t6\n",
      "α =\u001b[0m\t\t[0.5, 0.5, 0.5, 0.5, 0.5, 0.5]\n",
      "β =\u001b[0m\t\t[1.0, 0.0833333, 0.0666667, 0.0642857, 0.0634921, 0.0631313]\n",
      "\n",
      "\u001b[4mMeasure dλ(t)=w(t)dt\u001b[24m\n",
      "name:\t\t\u001b[94muniform01\u001b[39m\n",
      "w(t):\t\tPolyChaos.w_uniform01\n",
      "dom:\t\t(0.0, 1.0)\n",
      "symmetric:\t\u001b[32mtrue\u001b[39m\n",
      "\n",
      "\u001b[4mUnivariate orthogonal polynomials\u001b[24m\n",
      "name:\u001b[94m\t\tbeta01\u001b[39m\n",
      "degree:\u001b[0m\t\t6\n",
      "#coeffs:\u001b[0m\t7\n",
      "α =\u001b[0m\t\t[0.625, 0.528846, 0.512821, 0.507246, 0.504658, 0.503247, 0.502392]\n",
      "β =\u001b[0m\t\t[1.0, 0.0558036, 0.0599896, 0.0611942, 0.0617011, 0.0619613, 0.0621123]\n",
      "\n",
      "\u001b[4mMeasure dλ(t)=w(t)dt\u001b[24m\n",
      "name:\t\t\u001b[94mbeta01\u001b[39m\n",
      "w(t):\t\tgetfield(PolyChaos, Symbol(\"##86#87\")){Int64,Float64}(2, 1.2)\n",
      "dom:\t\t(0.0, 1.0)\n",
      "symmetric:\t\u001b[31mfalse\u001b[39m\n",
      "pars:\u001b[0m\t\tPair{Symbol,Real}(:shape_b, 1.2)\n",
      "\u001b[0m\t\tPair{Symbol,Real}(:shape_a, 2)\n",
      "\n",
      "\u001b[4mUnivariate orthogonal polynomials\u001b[24m\n",
      "name:\u001b[94m\t\tbeta01\u001b[39m\n",
      "degree:\u001b[0m\t\t6\n",
      "#coeffs:\u001b[0m\t7\n",
      "α =\u001b[0m\t\t[0.625, 0.528846, 0.512821, 0.507246, 0.504658, 0.503247, 0.502392]\n",
      "β =\u001b[0m\t\t[1.0, 0.0558036, 0.0599896, 0.0611942, 0.0617011, 0.0619613, 0.0621123]\n",
      "\n",
      "\u001b[4mMeasure dλ(t)=w(t)dt\u001b[24m\n",
      "name:\t\t\u001b[94mbeta01\u001b[39m\n",
      "w(t):\t\tgetfield(PolyChaos, Symbol(\"##86#87\")){Int64,Float64}(2, 1.2)\n",
      "dom:\t\t(0.0, 1.0)\n",
      "symmetric:\t\u001b[31mfalse\u001b[39m\n",
      "pars:\u001b[0m\t\tPair{Symbol,Real}(:shape_b, 1.2)\n",
      "\u001b[0m\t\tPair{Symbol,Real}(:shape_a, 2)\n",
      "\n",
      "\u001b[4mUnivariate orthogonal polynomials\u001b[24m\n",
      "name:\u001b[94m\t\tmy_op\u001b[39m\n",
      "degree:\u001b[0m\t\t4\n",
      "#coeffs:\u001b[0m\t5\n",
      "α =\u001b[0m\t\t[0.333333, 0.0666667, 0.0285714, 0.015873, 0.010101]\n",
      "β =\u001b[0m\t\t[2.0, 0.222222, 0.24, 0.244898, 0.246914]\n",
      "\n",
      "\u001b[4mMeasure dλ(t)=w(t)dt\u001b[24m\n",
      "name:\t\t\u001b[94mmy_meas\u001b[39m\n",
      "w(t):\t\tw\n",
      "dom:\t\t(-1.0, 1.0)\n",
      "symmetric:\t\u001b[31mfalse\u001b[39m\n",
      "\n",
      "\u001b[4mUnivariate orthogonal polynomials\u001b[24m\n",
      "name:\u001b[94m\t\tmy_op\u001b[39m\n",
      "degree:\u001b[0m\t\t4\n",
      "#coeffs:\u001b[0m\t5\n",
      "α =\u001b[0m\t\t[0.333333, 0.0666667, 0.0285714, 0.015873, 0.010101]\n",
      "β =\u001b[0m\t\t[2.0, 0.222222, 0.24, 0.244898, 0.246914]\n",
      "\n",
      "\u001b[4mMeasure dλ(t)=w(t)dt\u001b[24m\n",
      "name:\t\t\u001b[94mmy_meas\u001b[39m\n",
      "w(t):\t\tw\n",
      "dom:\t\t(-1.0, 1.0)\n",
      "symmetric:\t\u001b[31mfalse\u001b[39m\n"
     ]
    }
   ],
   "source": [
    "mop.uni"
   ]
  },
  {
   "cell_type": "markdown",
   "metadata": {},
   "source": [
    "The field `ind` contains the multi-index, i.e. row $i$ stores what combination of univariate polynomials makes up the $i$-th multivariate polynomial.\n",
    "For example,"
   ]
  },
  {
   "cell_type": "code",
   "execution_count": 9,
   "metadata": {},
   "outputs": [
    {
     "data": {
      "text/plain": [
       "4-element Array{Int64,1}:\n",
       " 0\n",
       " 1\n",
       " 0\n",
       " 1"
      ]
     },
     "execution_count": 9,
     "metadata": {},
     "output_type": "execute_result"
    }
   ],
   "source": [
    "i = 11\n",
    "mop.ind[i+1,:]"
   ]
  },
  {
   "cell_type": "markdown",
   "metadata": {},
   "source": [
    "translates mathematically to\n",
    "$$\n",
    "\\psi_{11}(t) = \\pi_0^{(1)}(t_1) \\pi_1^{(2)}(t_2) \\pi_0^{(3)}(t_3) \\pi_1^{(4)}(t_4).\n",
    "$$\n",
    "\n",
    "Notice that there is an offset by one, because the basis counting starts at 0, but Julia is 1-indexed.\n",
    "The underlying measure of `mop` is now of type `MultiMeasure`, and stored in the field `meas`"
   ]
  },
  {
   "cell_type": "code",
   "execution_count": 10,
   "metadata": {},
   "outputs": [
    {
     "data": {
      "text/plain": []
     },
     "execution_count": 10,
     "metadata": {},
     "output_type": "execute_result"
    },
    {
     "name": "stdout",
     "output_type": "stream",
     "text": [
      "\u001b[4m4-variate measure dλ(t)= ∏_{i=1}^4 w_i(t)dt_i\u001b[24m\n",
      "name:\u001b[94m\t\tgaussian\u001b[39m\n",
      "\u001b[94m\t\tuniform01\u001b[39m\n",
      "\u001b[94m\t\tbeta01\u001b[39m\n",
      "\u001b[94m\t\tmy_meas\u001b[39m\n",
      "w(t):\t\t∏_{i=1}^4 w_i(t)\n",
      "dom:\u001b[0m\t\t(-Inf, Inf)\n",
      "\u001b[0m\t\t(0.0, 1.0)\n",
      "\u001b[0m\t\t(0.0, 1.0)\n",
      "\u001b[0m\t\t(-1.0, 1.0)\n",
      "symmetric:\u001b[32m\ttrue\u001b[39m\n",
      "\u001b[32m\t\ttrue\u001b[39m\n",
      "\u001b[31m\t\tfalse\u001b[39m\n",
      "\u001b[31m\t\tfalse\u001b[39m\n",
      "pars:\t\t∅\n",
      "\t\t∅\n",
      "\t\tPair{Symbol,Real}(:shape_b, 1.2), Pair{Symbol,Real}(:shape_a, 2)\n",
      "\t\t∅\n"
     ]
    }
   ],
   "source": [
    "mop.meas"
   ]
  },
  {
   "cell_type": "markdown",
   "metadata": {},
   "source": [
    "The weight $w$ can be evaluated as expected"
   ]
  },
  {
   "cell_type": "code",
   "execution_count": 11,
   "metadata": {},
   "outputs": [
    {
     "data": {
      "text/plain": [
       "0.6068515236927562"
      ]
     },
     "execution_count": 11,
     "metadata": {},
     "output_type": "execute_result"
    }
   ],
   "source": [
    "mop.meas.w(0.5*ones(length(ops)))"
   ]
  }
 ],
 "metadata": {
  "kernelspec": {
   "display_name": "Julia 0.7.0",
   "language": "julia",
   "name": "julia-0.7"
  },
  "language_info": {
   "file_extension": ".jl",
   "mimetype": "application/julia",
   "name": "julia",
   "version": "0.7.0"
  }
 },
 "nbformat": 4,
 "nbformat_minor": 2
}
