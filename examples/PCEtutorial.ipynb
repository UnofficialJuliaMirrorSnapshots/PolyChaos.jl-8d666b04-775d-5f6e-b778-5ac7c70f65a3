{
 "cells": [
  {
   "cell_type": "markdown",
   "metadata": {},
   "source": [
    "# [Common Random Variables](@id CommonRandomVariables)\n",
    "Polynomial chaos expansion (PCE) is a Hilbert space technique for random variables with finite variance.\n",
    "Mathematically equivalent to Fourier series expansions for periodic signals, PCE allows to characterize a random variable in terms of its PCE coefficients (aka Fourier coefficients).\n",
    "That is, the PCE of a random variable $\\mathsf{x}$ is given by\n",
    "$$\n",
    "\\mathsf{x} = \\sum_{i=0}^L x_i \\phi_i,\n",
    "$$\n",
    "where $x_i$ are the so-called PCE coefficients, and $\\phi_i$ are the orthogonal polynomials that are orthogonal relative to the probability density function of $\\mathsf{x}$.\n",
    "\n",
    "This tutorial walks you through the PCE of common random variables, namely Gaussian (`gaussian`), Beta (`beta01`), Uniform(`uniform01`), Logistic (`logistic`), and shows how they are implemented in `PolyChaos`.\n",
    "\n",
    "## Construction of Basis\n",
    "\n",
    "We begin by specifying the names and, if any, parameters for the uncertainties."
   ]
  },
  {
   "cell_type": "code",
   "execution_count": 1,
   "metadata": {},
   "outputs": [
    {
     "data": {
      "text/plain": [
       "4-element Array{Dict,1}:\n",
       " Dict{Any,Any}()                  \n",
       " Dict(:shape_b=>2.2,:shape_a=>1.3)\n",
       " Dict{Any,Any}()                  \n",
       " Dict{Any,Any}()                  "
      ]
     },
     "execution_count": 1,
     "metadata": {},
     "output_type": "execute_result"
    }
   ],
   "source": [
    "using PolyChaos\n",
    "α, β = 1.3, 2.2\n",
    "polynames = [\"gaussian\", \"beta01\", \"uniform01\", \"logistic\"]\n",
    "pars = [Dict(), Dict(:shape_a=>α,:shape_b=>β), Dict(), Dict()]"
   ]
  },
  {
   "cell_type": "markdown",
   "metadata": {},
   "source": [
    "The orthogonal polynomials are constructed using `OrthoPoly` (here of degree at most `d`, and stored in the dictionary `myops`)."
   ]
  },
  {
   "cell_type": "code",
   "execution_count": 2,
   "metadata": {},
   "outputs": [],
   "source": [
    "d = 6\n",
    "myops = Dict()\n",
    "for (i,name) in enumerate(polynames)\n",
    "    myops[name]=OrthoPoly(name,d,pars[i])\n",
    "end"
   ]
  },
  {
   "cell_type": "markdown",
   "metadata": {},
   "source": [
    "For example, let's evaluate the Gaussian basis polynomials at some points"
   ]
  },
  {
   "cell_type": "code",
   "execution_count": 3,
   "metadata": {},
   "outputs": [
    {
     "data": {
      "text/plain": [
       "4-element Array{Array{Float64,1},1}:\n",
       " [1.0, 1.0, 1.0, 1.0, 1.0, 1.0, 1.0, 1.0, 1.0, 1.0]                                                     \n",
       " [1.55194, -0.884183, -0.999494, -0.991697, -0.850439, -0.682847, -0.999242, 3.76605, -0.706027, 3.9381]\n",
       " [-5.79924, 2.31851, 2.99696, 2.95025, 2.125, 1.19767, 2.99546, -2.88107, 1.32258, -2.24375]            \n",
       " [18.7706, -9.98788, -14.9772, -14.6274, -8.60193, -2.20499, -14.9659, -32.9943, -3.0421, -38.1434]     "
      ]
     },
     "execution_count": 3,
     "metadata": {},
     "output_type": "execute_result"
    }
   ],
   "source": [
    "points, degrees = randn(10), 0:2:d\n",
    "op_gauss=myops[\"gaussian\"]\n",
    "[ evaluate(degree,points,op_gauss) for degree in degrees ]"
   ]
  },
  {
   "cell_type": "markdown",
   "metadata": {},
   "source": [
    "If a quadrature rule is required, this can be added by calling `OrthoPolyQ`"
   ]
  },
  {
   "cell_type": "code",
   "execution_count": 4,
   "metadata": {},
   "outputs": [],
   "source": [
    "myopqs = Dict()\n",
    "for (i,name) in enumerate(polynames)\n",
    "    myopqs[name]=OrthoPolyQ(name,d,pars[i])\n",
    "end"
   ]
  },
  {
   "cell_type": "markdown",
   "metadata": {},
   "source": [
    "## Finding PCE Coefficients\n",
    "Having constructed the orthogonal bases, the question remains how to find the PCE coefficients for the common random variables.\n",
    "Every random variable can be characterized exactly by two PCE coefficients.\n",
    "For a Gaussian random variable, this is familiar: the mean and the variance suffice to describe a Gaussian random variable entirely.\n",
    "The same is true for any random variable of finite variance given the right basis.\n",
    "The function `convert2affinePCE` provides the first two PCE coefficients (hence the name affine) for the common random variables.\n",
    "\n",
    "### Gaussian\n",
    "Given the Gaussian random variable $\\mathsf{x} \\sim \\mathcal{N}(\\mu, \\sigma^2)$ with $\\sigma > 0$, the affine PCE coefficients are"
   ]
  },
  {
   "cell_type": "code",
   "execution_count": 5,
   "metadata": {},
   "outputs": [
    {
     "data": {
      "text/plain": [
       "2-element Array{Float64,1}:\n",
       " 2.0\n",
       " 0.2"
      ]
     },
     "execution_count": 5,
     "metadata": {},
     "output_type": "execute_result"
    }
   ],
   "source": [
    "# Gaussian\n",
    "μ, σ = 2., 0.2\n",
    "pce_gaussian = convert2affinePCE(\"gaussian\",μ,σ)\n",
    "# Uniform"
   ]
  },
  {
   "cell_type": "markdown",
   "metadata": {},
   "source": [
    "### Uniform\n",
    "Given the uniform random variable $\\mathsf{x} \\sim \\mathcal{U}(a, b)$ with finite support $a<b$, the affine PCE coefficients are"
   ]
  },
  {
   "cell_type": "code",
   "execution_count": 6,
   "metadata": {},
   "outputs": [
    {
     "data": {
      "text/plain": [
       "2-element Array{Float64,1}:\n",
       " 0.45\n",
       " 1.5 "
      ]
     },
     "execution_count": 6,
     "metadata": {},
     "output_type": "execute_result"
    }
   ],
   "source": [
    "a, b = -0.3, 1.2\n",
    "convert2affinePCE(\"uniform01\",a,b)"
   ]
  },
  {
   "cell_type": "markdown",
   "metadata": {},
   "source": [
    "Instead, if the expected value and standard deviation are known, the affine PCE coefficients of the uniform random variable are"
   ]
  },
  {
   "cell_type": "code",
   "execution_count": 7,
   "metadata": {},
   "outputs": [
    {
     "data": {
      "text/plain": [
       "2-element Array{Float64,1}:\n",
       " 2.0               \n",
       " 0.6928203230275509"
      ]
     },
     "execution_count": 7,
     "metadata": {},
     "output_type": "execute_result"
    }
   ],
   "source": [
    "pce_uniform = convert2affinePCE(\"uniform01\",μ,σ;kind=:μσ)\n",
    "# notice that the zero-order coefficient IS equivalent to the expected value μ"
   ]
  },
  {
   "cell_type": "markdown",
   "metadata": {},
   "source": [
    "### Beta\n",
    "Given the Beta random variable $\\mathsf{x} \\sim \\mathcal{B}(a, b, \\alpha, \\beta)$ with finite support $a<b$ and shape parameters $\\alpha, \\beta > 0$, the affine PCE coefficients are"
   ]
  },
  {
   "cell_type": "code",
   "execution_count": 8,
   "metadata": {},
   "outputs": [
    {
     "data": {
      "text/plain": [
       "2-element Array{Float64,1}:\n",
       " 0.2571428571428572\n",
       " 1.5               "
      ]
     },
     "execution_count": 8,
     "metadata": {},
     "output_type": "execute_result"
    }
   ],
   "source": [
    "convert2affinePCE(\"beta01\",a,b,Dict(:shape_a=>α,:shape_b=>β))"
   ]
  },
  {
   "cell_type": "markdown",
   "metadata": {},
   "source": [
    "Instead, if the expected value and standard deviation are known, the affine PCE coefficients of the uniform random variable are"
   ]
  },
  {
   "cell_type": "code",
   "execution_count": 9,
   "metadata": {},
   "outputs": [
    {
     "data": {
      "text/plain": [
       "2-element Array{Float64,1}:\n",
       " 2.0               \n",
       " 0.8780541105074454"
      ]
     },
     "execution_count": 9,
     "metadata": {},
     "output_type": "execute_result"
    }
   ],
   "source": [
    "pce_beta = convert2affinePCE(\"beta01\",μ,σ,Dict(:shape_a=>α,:shape_b=>β); kind=:μσ)"
   ]
  },
  {
   "cell_type": "markdown",
   "metadata": {},
   "source": [
    "### Logistic"
   ]
  },
  {
   "cell_type": "markdown",
   "metadata": {},
   "source": [
    "Given the logstic random variable $\\mathsf{x} \\sim \\mathcal{L}(a_1,a_2)$ where $a_2>0$ with the probability density function\n",
    "$$\n",
    "\\rho(t) = \\frac{1}{4 a_2} \\, \\operatorname{sech}^2 \\left(\\frac{t-a_1}{2a_2}\\right)\n",
    "$$\n",
    "the affine PCE coefficients of the uniform random variable are"
   ]
  },
  {
   "cell_type": "code",
   "execution_count": 10,
   "metadata": {},
   "outputs": [
    {
     "data": {
      "text/plain": [
       "2-element Array{Float64,1}:\n",
       " 2.0                \n",
       " 0.11026577908435842"
      ]
     },
     "execution_count": 10,
     "metadata": {},
     "output_type": "execute_result"
    }
   ],
   "source": [
    "a1, a2 = μ, sqrt(3)*σ/pi\n",
    "pce_logistic = convert2affinePCE(\"logistic\",a1,a2)"
   ]
  },
  {
   "cell_type": "markdown",
   "metadata": {},
   "source": [
    "## Moments\n",
    "It is a key feature of PCE to compute moments from the PCE coefficients alone; no sampling is required.\n",
    "\n",
    "### Gaussian"
   ]
  },
  {
   "cell_type": "code",
   "execution_count": 11,
   "metadata": {},
   "outputs": [
    {
     "data": {
      "text/plain": [
       "(2.0, 0.2)"
      ]
     },
     "execution_count": 11,
     "metadata": {},
     "output_type": "execute_result"
    }
   ],
   "source": [
    "mean(pce_gaussian,myops[\"gaussian\"]), std(pce_gaussian,myops[\"gaussian\"])"
   ]
  },
  {
   "cell_type": "markdown",
   "metadata": {},
   "source": [
    "### Uniform"
   ]
  },
  {
   "cell_type": "code",
   "execution_count": 12,
   "metadata": {},
   "outputs": [
    {
     "data": {
      "text/plain": [
       "(2.0, 0.19999999999999998)"
      ]
     },
     "execution_count": 12,
     "metadata": {},
     "output_type": "execute_result"
    }
   ],
   "source": [
    "mean(pce_uniform,myops[\"uniform01\"]), std(pce_uniform,myops[\"uniform01\"])"
   ]
  },
  {
   "cell_type": "markdown",
   "metadata": {},
   "source": [
    "### Beta"
   ]
  },
  {
   "cell_type": "code",
   "execution_count": 13,
   "metadata": {},
   "outputs": [
    {
     "data": {
      "text/plain": [
       "(2.0, 0.20000000000000004)"
      ]
     },
     "execution_count": 13,
     "metadata": {},
     "output_type": "execute_result"
    }
   ],
   "source": [
    "mean(pce_beta,myops[\"beta01\"]), std(pce_beta,myops[\"beta01\"])"
   ]
  },
  {
   "cell_type": "markdown",
   "metadata": {},
   "source": [
    "### Logistic"
   ]
  },
  {
   "cell_type": "code",
   "execution_count": 14,
   "metadata": {},
   "outputs": [
    {
     "data": {
      "text/plain": [
       "(2.0, 0.2)"
      ]
     },
     "execution_count": 14,
     "metadata": {},
     "output_type": "execute_result"
    }
   ],
   "source": [
    "mean(pce_logistic,myops[\"logistic\"]), std(pce_logistic,myops[\"logistic\"])"
   ]
  },
  {
   "cell_type": "markdown",
   "metadata": {},
   "source": [
    "## Sampling\n",
    "Having found the PCE coefficients, it may be useful to sample the random variables.\n",
    "That means, find $N$ realizations of the random variable that obey the random variable's probability density function.\n",
    "This is done in two steps:\n",
    "1. Draw $N$ samples from the measure (`sampleMeasure()`), and then\n",
    "2. Evaluate the basis polynomials and multiply times the PCE coefficients, i.e. $\\sum_{i=0}^L x_i \\phi_i(\\xi_j)$ where $\\xi_j$ is the $j$-th sample from the measure (`evaluatePCE()`).\n",
    "\n",
    "Both steps are combined in the function `samplepCE()`.\n",
    "\n",
    "### Gaussian"
   ]
  },
  {
   "cell_type": "code",
   "execution_count": 15,
   "metadata": {},
   "outputs": [
    {
     "data": {
      "text/plain": [
       "1000-element Array{Float64,1}:\n",
       " 2.1907661087520136\n",
       " 1.663042602332315 \n",
       " 1.9793196182874786\n",
       " 2.054571660450479 \n",
       " 1.6892770287109173\n",
       " 1.8785011785994126\n",
       " 1.939678975096966 \n",
       " 1.5058767650163523\n",
       " 2.1652237931936766\n",
       " 2.1710816714077197\n",
       " 2.0305330812359506\n",
       " 2.3324470819265284\n",
       " 1.8972919389968446\n",
       " ⋮                 \n",
       " 1.9083936525475467\n",
       " 2.149873461138305 \n",
       " 2.288037374438226 \n",
       " 2.018016049722023 \n",
       " 1.8313991949469228\n",
       " 1.8040936222927373\n",
       " 1.9650218372924761\n",
       " 2.0129875294704225\n",
       " 1.6649137246077148\n",
       " 2.2797879989684215\n",
       " 2.0753834089248495\n",
       " 2.162282978619439 "
      ]
     },
     "execution_count": 15,
     "metadata": {},
     "output_type": "execute_result"
    }
   ],
   "source": [
    "using Statistics\n",
    "N = 1000\n",
    "ξ_gaussian = sampleMeasure(N,myops[\"gaussian\"])\n",
    "samples_gaussian = evaluatePCE(pce_gaussian,ξ_gaussian,myops[\"gaussian\"])\n",
    "# samplePCE(N,pce_gaussian,myops[\"gaussian\"])"
   ]
  },
  {
   "cell_type": "markdown",
   "metadata": {},
   "source": [
    "### Uniform"
   ]
  },
  {
   "cell_type": "code",
   "execution_count": 16,
   "metadata": {},
   "outputs": [
    {
     "data": {
      "text/plain": [
       "1000-element Array{Float64,1}:\n",
       " 2.182246590981403 \n",
       " 1.8660407626221835\n",
       " 1.7348542980700548\n",
       " 2.0510770573299877\n",
       " 2.0656209910473584\n",
       " 2.2826390664891334\n",
       " 2.3247562789591094\n",
       " 1.9596403642982063\n",
       " 2.010736711462756 \n",
       " 2.2303499489736387\n",
       " 1.8748482798451551\n",
       " 1.7510445075338057\n",
       " 1.9092835746639136\n",
       " ⋮                 \n",
       " 1.8822711487131847\n",
       " 1.8244481788622244\n",
       " 1.7939152903021358\n",
       " 1.6955585078163846\n",
       " 1.808113559823288 \n",
       " 1.699243254065136 \n",
       " 1.9851223994266485\n",
       " 1.9962403483510394\n",
       " 2.21689028326404  \n",
       " 2.197131021388452 \n",
       " 1.9238920675523183\n",
       " 1.9912126756774329"
      ]
     },
     "execution_count": 16,
     "metadata": {},
     "output_type": "execute_result"
    }
   ],
   "source": [
    "ξ_uniform = sampleMeasure(N,myops[\"uniform01\"])\n",
    "samples_uniform = evaluatePCE(pce_uniform,ξ_uniform,myops[\"uniform01\"])\n",
    "# samples_uniform = samplePCE(N,pce_uniform,myops[\"uniform01\"])"
   ]
  },
  {
   "cell_type": "markdown",
   "metadata": {},
   "source": [
    "### Beta"
   ]
  },
  {
   "cell_type": "code",
   "execution_count": 17,
   "metadata": {},
   "outputs": [
    {
     "data": {
      "text/plain": [
       "1000-element Array{Float64,1}:\n",
       " 1.718590753300027 \n",
       " 2.008869867204546 \n",
       " 1.9295231182184724\n",
       " 2.084510946990528 \n",
       " 2.147358149410141 \n",
       " 2.1759480431080402\n",
       " 1.8327019486628064\n",
       " 2.116730279564404 \n",
       " 1.743229471186151 \n",
       " 2.2859934097975745\n",
       " 1.7450979537588263\n",
       " 2.083354580401723 \n",
       " 1.8577442000334639\n",
       " ⋮                 \n",
       " 1.732754314019092 \n",
       " 2.0343866216525734\n",
       " 2.298374947552816 \n",
       " 2.2856254098595974\n",
       " 2.4602794511559387\n",
       " 1.990844015695832 \n",
       " 1.8117715322357268\n",
       " 1.9629049375921117\n",
       " 2.10512961673262  \n",
       " 1.8862805984752367\n",
       " 1.7083611271432226\n",
       " 2.1593596194783986"
      ]
     },
     "execution_count": 17,
     "metadata": {},
     "output_type": "execute_result"
    }
   ],
   "source": [
    "ξ_beta = sampleMeasure(N,myops[\"beta01\"])\n",
    "samples_beta = evaluatePCE(pce_beta,ξ_beta,myops[\"beta01\"])\n",
    "# samples_beta = samplePCE(N,pce_beta,myops[\"beta01\"])"
   ]
  },
  {
   "cell_type": "markdown",
   "metadata": {},
   "source": [
    "### Logistic"
   ]
  },
  {
   "cell_type": "code",
   "execution_count": 18,
   "metadata": {},
   "outputs": [
    {
     "data": {
      "text/plain": [
       "1000-element Array{Float64,1}:\n",
       " 1.806487842107241 \n",
       " 2.0469637991532372\n",
       " 1.9295487062293468\n",
       " 2.390120894497393 \n",
       " 2.2171062440832525\n",
       " 2.1823147376488574\n",
       " 1.8325996564765532\n",
       " 1.8664992036390193\n",
       " 2.3704972043071533\n",
       " 1.920199757116314 \n",
       " 2.0032372242924237\n",
       " 2.12506113303165  \n",
       " 1.8835238042121722\n",
       " ⋮                 \n",
       " 1.8829645443326795\n",
       " 1.9828068519196267\n",
       " 1.8157462224656036\n",
       " 2.006314777868817 \n",
       " 2.057138553994138 \n",
       " 1.7115811150916103\n",
       " 2.130525171203205 \n",
       " 2.1605139125847175\n",
       " 1.9563654667934631\n",
       " 1.7775778694429076\n",
       " 1.745048729513444 \n",
       " 1.9568897676693622"
      ]
     },
     "execution_count": 18,
     "metadata": {},
     "output_type": "execute_result"
    }
   ],
   "source": [
    "ξ_logistic = sampleMeasure(N,myops[\"logistic\"])\n",
    "samples_logistic = evaluatePCE(pce_logistic,ξ_logistic,myops[\"logistic\"])\n",
    "# samples_logistic = samplePCE(N,pce_logistic,myops[\"logistic\"])"
   ]
  }
 ],
 "metadata": {
  "kernelspec": {
   "display_name": "Julia 0.7.0",
   "language": "julia",
   "name": "julia-0.7"
  },
  "language_info": {
   "file_extension": ".jl",
   "mimetype": "application/julia",
   "name": "julia",
   "version": "0.7.0"
  }
 },
 "nbformat": 4,
 "nbformat_minor": 2
}
